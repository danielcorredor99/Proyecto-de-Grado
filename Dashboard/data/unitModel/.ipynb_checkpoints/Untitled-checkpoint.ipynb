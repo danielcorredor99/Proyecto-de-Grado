{
 "cells": [
  {
   "cell_type": "code",
   "execution_count": 6,
   "id": "b1db5e0d",
   "metadata": {},
   "outputs": [
    {
     "data": {
      "text/html": [
       "<div>\n",
       "<style scoped>\n",
       "    .dataframe tbody tr th:only-of-type {\n",
       "        vertical-align: middle;\n",
       "    }\n",
       "\n",
       "    .dataframe tbody tr th {\n",
       "        vertical-align: top;\n",
       "    }\n",
       "\n",
       "    .dataframe thead th {\n",
       "        text-align: right;\n",
       "    }\n",
       "</style>\n",
       "<table border=\"1\" class=\"dataframe\">\n",
       "  <thead>\n",
       "    <tr style=\"text-align: right;\">\n",
       "      <th></th>\n",
       "      <th>Dataset</th>\n",
       "      <th>RMSE</th>\n",
       "      <th>MAE</th>\n",
       "      <th>MAPE</th>\n",
       "    </tr>\n",
       "  </thead>\n",
       "  <tbody>\n",
       "    <tr>\n",
       "      <th>0</th>\n",
       "      <td>Vol</td>\n",
       "      <td>0,956</td>\n",
       "      <td>0,698</td>\n",
       "      <td>35,977</td>\n",
       "    </tr>\n",
       "    <tr>\n",
       "      <th>1</th>\n",
       "      <td>Vol y VE</td>\n",
       "      <td>0,957</td>\n",
       "      <td>0,709</td>\n",
       "      <td>37,366</td>\n",
       "    </tr>\n",
       "    <tr>\n",
       "      <th>2</th>\n",
       "      <td>Vol e IN</td>\n",
       "      <td>0,973</td>\n",
       "      <td>0,728</td>\n",
       "      <td>38,462</td>\n",
       "    </tr>\n",
       "    <tr>\n",
       "      <th>3</th>\n",
       "      <td>Vol, VE e IN</td>\n",
       "      <td>0,964</td>\n",
       "      <td>0,710</td>\n",
       "      <td>36,836</td>\n",
       "    </tr>\n",
       "  </tbody>\n",
       "</table>\n",
       "</div>"
      ],
      "text/plain": [
       "        Dataset   RMSE    MAE    MAPE\n",
       "0           Vol  0,956  0,698  35,977\n",
       "1      Vol y VE  0,957  0,709  37,366\n",
       "2      Vol e IN  0,973  0,728  38,462\n",
       "3  Vol, VE e IN  0,964  0,710  36,836"
      ]
     },
     "execution_count": 6,
     "metadata": {},
     "output_type": "execute_result"
    }
   ],
   "source": [
    "import pandas as pd\n",
    "df=pd.read_csv(\"ELM test antes.csv\",delimiter=\";\")\n",
    "df"
   ]
  },
  {
   "cell_type": "code",
   "execution_count": 7,
   "id": "411bc2a0",
   "metadata": {},
   "outputs": [],
   "source": [
    "rmse=[0.9676130,0.9560734,0.9731621,0.9641482]\n",
    "mae=[0.7122352,0.6956052,0.7277066,0.7104746]\n",
    "mape=[36.4743385,35.6412418,38.4621571,36.8360595]"
   ]
  },
  {
   "cell_type": "code",
   "execution_count": 9,
   "id": "c349008b",
   "metadata": {},
   "outputs": [
    {
     "data": {
      "text/html": [
       "<div>\n",
       "<style scoped>\n",
       "    .dataframe tbody tr th:only-of-type {\n",
       "        vertical-align: middle;\n",
       "    }\n",
       "\n",
       "    .dataframe tbody tr th {\n",
       "        vertical-align: top;\n",
       "    }\n",
       "\n",
       "    .dataframe thead th {\n",
       "        text-align: right;\n",
       "    }\n",
       "</style>\n",
       "<table border=\"1\" class=\"dataframe\">\n",
       "  <thead>\n",
       "    <tr style=\"text-align: right;\">\n",
       "      <th></th>\n",
       "      <th>Dataset</th>\n",
       "      <th>RMSE</th>\n",
       "      <th>MAE</th>\n",
       "      <th>MAPE</th>\n",
       "    </tr>\n",
       "  </thead>\n",
       "  <tbody>\n",
       "    <tr>\n",
       "      <th>0</th>\n",
       "      <td>Vol</td>\n",
       "      <td>0.967613</td>\n",
       "      <td>0.712235</td>\n",
       "      <td>36.474339</td>\n",
       "    </tr>\n",
       "    <tr>\n",
       "      <th>1</th>\n",
       "      <td>Vol y VE</td>\n",
       "      <td>0.956073</td>\n",
       "      <td>0.695605</td>\n",
       "      <td>35.641242</td>\n",
       "    </tr>\n",
       "    <tr>\n",
       "      <th>2</th>\n",
       "      <td>Vol e IN</td>\n",
       "      <td>0.973162</td>\n",
       "      <td>0.727707</td>\n",
       "      <td>38.462157</td>\n",
       "    </tr>\n",
       "    <tr>\n",
       "      <th>3</th>\n",
       "      <td>Vol, VE e IN</td>\n",
       "      <td>0.964148</td>\n",
       "      <td>0.710475</td>\n",
       "      <td>36.836059</td>\n",
       "    </tr>\n",
       "  </tbody>\n",
       "</table>\n",
       "</div>"
      ],
      "text/plain": [
       "        Dataset      RMSE       MAE       MAPE\n",
       "0           Vol  0.967613  0.712235  36.474339\n",
       "1      Vol y VE  0.956073  0.695605  35.641242\n",
       "2      Vol e IN  0.973162  0.727707  38.462157\n",
       "3  Vol, VE e IN  0.964148  0.710475  36.836059"
      ]
     },
     "execution_count": 9,
     "metadata": {},
     "output_type": "execute_result"
    }
   ],
   "source": [
    "df[\"RMSE\"]=rmse\n",
    "df[\"MAE\"]=mae\n",
    "df[\"MAPE\"]=mape\n",
    "df"
   ]
  },
  {
   "cell_type": "code",
   "execution_count": 12,
   "id": "f29309e4",
   "metadata": {},
   "outputs": [],
   "source": [
    "df.to_csv(\"ELM test antes.csv\",index=False,sep=\";\")"
   ]
  }
 ],
 "metadata": {
  "kernelspec": {
   "display_name": "Python 3 (ipykernel)",
   "language": "python",
   "name": "python3"
  },
  "language_info": {
   "codemirror_mode": {
    "name": "ipython",
    "version": 3
   },
   "file_extension": ".py",
   "mimetype": "text/x-python",
   "name": "python",
   "nbconvert_exporter": "python",
   "pygments_lexer": "ipython3",
   "version": "3.10.4"
  }
 },
 "nbformat": 4,
 "nbformat_minor": 5
}
